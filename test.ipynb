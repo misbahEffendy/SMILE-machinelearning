{
  "cells": [
    {
      "cell_type": "code",
      "execution_count": 1,
      "metadata": {
        "id": "VmWsMd0dQbkl"
      },
      "outputs": [],
      "source": [
        "# Import Libraries\n",
        "import time\n",
        "import random\n",
        "import string\n",
        "import re\n",
        "import numpy as np\n",
        "import pandas as pd\n",
        "import tensorflow as tf\n",
        "import matplotlib.pyplot as plt\n",
        "from tensorflow.keras.models import Model\n",
        "from keras.utils.vis_utils import plot_model\n",
        "from sklearn.preprocessing import LabelEncoder\n",
        "from tensorflow.keras.preprocessing.text import Tokenizer\n",
        "from tensorflow.keras.layers import Input, Embedding, LSTM\n",
        "from tensorflow.keras.preprocessing.sequence import pad_sequences\n",
        "from tensorflow.keras.layers import Dense, Dropout, Flatten"
      ]
    },
    {
      "cell_type": "code",
      "execution_count": 3,
      "metadata": {
        "id": "6htp-aQwQbkq"
      },
      "outputs": [
        {
          "data": {
            "text/html": [
              "<div>\n",
              "<style scoped>\n",
              "    .dataframe tbody tr th:only-of-type {\n",
              "        vertical-align: middle;\n",
              "    }\n",
              "\n",
              "    .dataframe tbody tr th {\n",
              "        vertical-align: top;\n",
              "    }\n",
              "\n",
              "    .dataframe thead th {\n",
              "        text-align: right;\n",
              "    }\n",
              "</style>\n",
              "<table border=\"1\" class=\"dataframe\">\n",
              "  <thead>\n",
              "    <tr style=\"text-align: right;\">\n",
              "      <th></th>\n",
              "      <th>Pertanyaan</th>\n",
              "      <th>Jawaban</th>\n",
              "      <th>Kategori</th>\n",
              "    </tr>\n",
              "  </thead>\n",
              "  <tbody>\n",
              "    <tr>\n",
              "      <th>0</th>\n",
              "      <td>Apa yang menyebabkan depresi?</td>\n",
              "      <td>Depresi dapat disebabkan oleh kombinasi faktor...</td>\n",
              "      <td>Apa Depresi</td>\n",
              "    </tr>\n",
              "    <tr>\n",
              "      <th>1</th>\n",
              "      <td>Apa gejala umum dari depresi?</td>\n",
              "      <td>Gejala umum depresi meliputi perasaan sedih, k...</td>\n",
              "      <td>Apa Depresi</td>\n",
              "    </tr>\n",
              "    <tr>\n",
              "      <th>2</th>\n",
              "      <td>Bagaimana cara mengatasi depresi?</td>\n",
              "      <td>Cara mengatasi depresi dapat meliputi terapi p...</td>\n",
              "      <td>Bagaimana Depresi</td>\n",
              "    </tr>\n",
              "    <tr>\n",
              "      <th>3</th>\n",
              "      <td>Apakah depresi bisa disembuhkan?</td>\n",
              "      <td>Depresi dapat disembuhkan dengan pengobatan ya...</td>\n",
              "      <td>Apakah Depresi</td>\n",
              "    </tr>\n",
              "    <tr>\n",
              "      <th>4</th>\n",
              "      <td>Apakah ada faktor risiko untuk mengalami depresi?</td>\n",
              "      <td>Ada beberapa faktor risiko yang dapat meningka...</td>\n",
              "      <td>Apakah Depresi</td>\n",
              "    </tr>\n",
              "  </tbody>\n",
              "</table>\n",
              "</div>"
            ],
            "text/plain": [
              "                                          Pertanyaan  \\\n",
              "0                      Apa yang menyebabkan depresi?   \n",
              "1                      Apa gejala umum dari depresi?   \n",
              "2                  Bagaimana cara mengatasi depresi?   \n",
              "3                   Apakah depresi bisa disembuhkan?   \n",
              "4  Apakah ada faktor risiko untuk mengalami depresi?   \n",
              "\n",
              "                                             Jawaban           Kategori  \n",
              "0  Depresi dapat disebabkan oleh kombinasi faktor...        Apa Depresi  \n",
              "1  Gejala umum depresi meliputi perasaan sedih, k...        Apa Depresi  \n",
              "2  Cara mengatasi depresi dapat meliputi terapi p...  Bagaimana Depresi  \n",
              "3  Depresi dapat disembuhkan dengan pengobatan ya...     Apakah Depresi  \n",
              "4  Ada beberapa faktor risiko yang dapat meningka...     Apakah Depresi  "
            ]
          },
          "execution_count": 3,
          "metadata": {},
          "output_type": "execute_result"
        }
      ],
      "source": [
        "df = pd.read_csv(\"indonesian_conversation_data.csv\", low_memory = False, encoding='utf8')\n",
        "df.head()"
      ]
    },
    {
      "cell_type": "code",
      "execution_count": 4,
      "metadata": {
        "id": "WztiQfmCQbkq"
      },
      "outputs": [
        {
          "data": {
            "text/html": [
              "<div>\n",
              "<style scoped>\n",
              "    .dataframe tbody tr th:only-of-type {\n",
              "        vertical-align: middle;\n",
              "    }\n",
              "\n",
              "    .dataframe tbody tr th {\n",
              "        vertical-align: top;\n",
              "    }\n",
              "\n",
              "    .dataframe thead th {\n",
              "        text-align: right;\n",
              "    }\n",
              "</style>\n",
              "<table border=\"1\" class=\"dataframe\">\n",
              "  <thead>\n",
              "    <tr style=\"text-align: right;\">\n",
              "      <th></th>\n",
              "      <th>Pertanyaan</th>\n",
              "      <th>Kategori</th>\n",
              "    </tr>\n",
              "  </thead>\n",
              "  <tbody>\n",
              "    <tr>\n",
              "      <th>0</th>\n",
              "      <td>Apa yang menyebabkan depresi?</td>\n",
              "      <td>Apa Depresi</td>\n",
              "    </tr>\n",
              "    <tr>\n",
              "      <th>1</th>\n",
              "      <td>Apa gejala umum dari depresi?</td>\n",
              "      <td>Apa Depresi</td>\n",
              "    </tr>\n",
              "    <tr>\n",
              "      <th>2</th>\n",
              "      <td>Bagaimana cara mengatasi depresi?</td>\n",
              "      <td>Bagaimana Depresi</td>\n",
              "    </tr>\n",
              "    <tr>\n",
              "      <th>3</th>\n",
              "      <td>Apakah depresi bisa disembuhkan?</td>\n",
              "      <td>Apakah Depresi</td>\n",
              "    </tr>\n",
              "    <tr>\n",
              "      <th>4</th>\n",
              "      <td>Apakah ada faktor risiko untuk mengalami depresi?</td>\n",
              "      <td>Apakah Depresi</td>\n",
              "    </tr>\n",
              "  </tbody>\n",
              "</table>\n",
              "</div>"
            ],
            "text/plain": [
              "                                          Pertanyaan           Kategori\n",
              "0                      Apa yang menyebabkan depresi?        Apa Depresi\n",
              "1                      Apa gejala umum dari depresi?        Apa Depresi\n",
              "2                  Bagaimana cara mengatasi depresi?  Bagaimana Depresi\n",
              "3                   Apakah depresi bisa disembuhkan?     Apakah Depresi\n",
              "4  Apakah ada faktor risiko untuk mengalami depresi?     Apakah Depresi"
            ]
          },
          "execution_count": 4,
          "metadata": {},
          "output_type": "execute_result"
        }
      ],
      "source": [
        "data = df[['Pertanyaan', 'Kategori']]\n",
        "data.head()"
      ]
    },
    {
      "cell_type": "code",
      "execution_count": 18,
      "metadata": {
        "id": "oUN8zPheQbkr"
      },
      "outputs": [],
      "source": [
        "# Removing Punctuations (Menghilangkan Punktuasi)\n",
        "data.loc[:, 'Pertanyaan'] = data['Pertanyaan'].apply(lambda wrd: ''.join([ltrs.lower() for ltrs in wrd if ltrs not in string.punctuation]))\n",
        "data.loc[:, 'Pertanyaan'] = data['Pertanyaan'].apply(lambda wrd: re.sub(r'\\n', ' ', wrd))\n",
        "data.loc[:, 'Pertanyaan'] = data['Pertanyaan'].apply(lambda wrd: re.sub(r'\\(', '', wrd))\n",
        "data.loc[:, 'Pertanyaan'] = data['Pertanyaan'].apply(lambda wrd: re.sub(r'\\)', '', wrd))\n",
        "data.loc[:, 'Pertanyaan'] = data['Pertanyaan'].apply(lambda wrd: re.sub(r',', '', wrd))\n",
        "data.loc[:, 'Pertanyaan'] = data['Pertanyaan'].apply(lambda wrd: re.sub(r'-', '', wrd))\n",
        "data.loc[:, 'Pertanyaan'] = data['Pertanyaan'].apply(lambda wrd: re.sub(r'/', '', wrd))\n",
        "data.loc[:, 'Pertanyaan'] = data['Pertanyaan'].apply(lambda wrd: re.sub(r'/', '', wrd))\n",
        "data.loc[:, 'Pertanyaan'] = data['Pertanyaan'].apply(lambda wrd: re.sub(r\"[^\\w]\", ' ', wrd))\n"
      ]
    },
    {
      "cell_type": "code",
      "execution_count": 6,
      "metadata": {
        "id": "__Y_ULnqQbkr"
      },
      "outputs": [],
      "source": [
        "kata_index = {}\n",
        "for pattern in data['Pertanyaan']:\n",
        "      kata = pattern.lower().split()\n",
        "      for w in kata:\n",
        "            if w not in kata_index:\n",
        "                  kata_index[w] = len(kata_index) + 1"
      ]
    },
    {
      "cell_type": "code",
      "execution_count": 7,
      "metadata": {
        "id": "-yBabHnjQbks"
      },
      "outputs": [],
      "source": [
        "sequences = []\n",
        "for sentence in data['Pertanyaan']:\n",
        "    words = sentence.lower().split()  # Mengubah ke huruf kecil dan memecah kalimat menjadi kata-kata\n",
        "    sequence = [kata_index[word] for word in words]  # Mengubah setiap kata menjadi angka berdasarkan kamus\n",
        "    sequences.append(sequence)"
      ]
    },
    {
      "cell_type": "code",
      "execution_count": 8,
      "metadata": {
        "id": "T-HH_crYQbkt"
      },
      "outputs": [],
      "source": [
        "# Menentukan panjang maksimum urutan angka\n",
        "max_length = max(len(sequence) for sequence in sequences)\n",
        "\n",
        "# Melakukan padding pada setiap urutan angka\n",
        "padded_sequences = []\n",
        "for sequence in sequences:\n",
        "    padded_sequence = sequence + [0] * (max_length - len(sequence))\n",
        "    padded_sequences.append(padded_sequence)\n",
        "\n",
        "# Menyimpan hasil padded dalam variabel\n",
        "padded_sequences_variable = padded_sequences"
      ]
    },
    {
      "cell_type": "code",
      "execution_count": 9,
      "metadata": {
        "id": "ApDO2FiNQbku"
      },
      "outputs": [],
      "source": [
        "train = padded_sequences_variable"
      ]
    },
    {
      "cell_type": "code",
      "execution_count": 10,
      "metadata": {
        "id": "0ytMCbGkQbku"
      },
      "outputs": [],
      "source": [
        "x_train = np.array(train)"
      ]
    },
    {
      "cell_type": "code",
      "execution_count": 11,
      "metadata": {
        "id": "ZNp4mpwNQbkv"
      },
      "outputs": [],
      "source": [
        "panjang_input = x_train.shape[1]"
      ]
    },
    {
      "cell_type": "code",
      "execution_count": 12,
      "metadata": {
        "id": "yZ_7ozRJQbkv"
      },
      "outputs": [],
      "source": [
        "labels = data['Kategori']\n",
        "label_mapping = {label: idx for idx, label in enumerate(labels.unique())}\n",
        "y_train1 = labels.map(label_mapping)\n",
        "y_train = y_train1.to_numpy()"
      ]
    },
    {
      "cell_type": "code",
      "execution_count": 13,
      "metadata": {
        "id": "kJZnPwicQbkv"
      },
      "outputs": [],
      "source": [
        "label_mapping_inverse = {idx: label for label, idx in label_mapping.items()}"
      ]
    },
    {
      "cell_type": "code",
      "execution_count": 14,
      "metadata": {
        "id": "McVKviaqQbkw"
      },
      "outputs": [
        {
          "name": "stdout",
          "output_type": "stream",
          "text": [
            "Jumlah vocabulary data pertanyaan:  2165\n",
            "Jumlah kelas unik:  215\n",
            "Kelas unik:  ['Apa Anxiety' 'Apa Autisme' 'Apa Bersyukur' 'Apa Bipolar' 'Apa Cemas']\n"
          ]
        }
      ],
      "source": [
        "# define vocabulary\n",
        "vocabulary = len(kata_index)\n",
        "print(\"Jumlah vocabulary data pertanyaan: \", vocabulary)\n",
        "\n",
        "# output length\n",
        "tag = np.unique(data['Kategori'])\n",
        "panjang_output = len(tag)\n",
        "print(\"Jumlah kelas unik: \", panjang_output)\n",
        "print(\"Kelas unik: \", tag[0:5])"
      ]
    },
    {
      "cell_type": "code",
      "execution_count": 15,
      "metadata": {
        "id": "GVhkeC-BQbkz"
      },
      "outputs": [],
      "source": [
        "jawaban = {}\n",
        "\n",
        "for index, row in df.iterrows():\n",
        "    kategori = row['Kategori']\n",
        "    jawaban_1 = row['Jawaban']\n",
        "\n",
        "    if kategori not in jawaban:\n",
        "        jawaban[kategori] = [jawaban_1]\n",
        "    else:\n",
        "        jawaban[kategori].append(jawaban_1)"
      ]
    },
    {
      "cell_type": "code",
      "execution_count": 16,
      "metadata": {
        "id": "u47di1a2RAni"
      },
      "outputs": [
        {
          "ename": "ValueError",
          "evalue": "Unknown optimizer: Custom>Adam. Please ensure this object is passed to the `custom_objects` argument. See https://www.tensorflow.org/guide/keras/save_and_serialize#registering_the_custom_object for details.",
          "output_type": "error",
          "traceback": [
            "\u001b[1;31m---------------------------------------------------------------------------\u001b[0m",
            "\u001b[1;31mValueError\u001b[0m                                Traceback (most recent call last)",
            "Cell \u001b[1;32mIn[16], line 1\u001b[0m\n\u001b[1;32m----> 1\u001b[0m model \u001b[39m=\u001b[39m tf\u001b[39m.\u001b[39;49mkeras\u001b[39m.\u001b[39;49mmodels\u001b[39m.\u001b[39;49mload_model(\u001b[39m'\u001b[39;49m\u001b[39mmodel.h5\u001b[39;49m\u001b[39m'\u001b[39;49m)\n",
            "File \u001b[1;32mc:\\Users\\LENOVO\\miniconda3\\envs\\tf\\lib\\site-packages\\keras\\utils\\traceback_utils.py:67\u001b[0m, in \u001b[0;36mfilter_traceback.<locals>.error_handler\u001b[1;34m(*args, **kwargs)\u001b[0m\n\u001b[0;32m     65\u001b[0m \u001b[39mexcept\u001b[39;00m \u001b[39mException\u001b[39;00m \u001b[39mas\u001b[39;00m e:  \u001b[39m# pylint: disable=broad-except\u001b[39;00m\n\u001b[0;32m     66\u001b[0m   filtered_tb \u001b[39m=\u001b[39m _process_traceback_frames(e\u001b[39m.\u001b[39m__traceback__)\n\u001b[1;32m---> 67\u001b[0m   \u001b[39mraise\u001b[39;00m e\u001b[39m.\u001b[39mwith_traceback(filtered_tb) \u001b[39mfrom\u001b[39;00m \u001b[39mNone\u001b[39;00m\n\u001b[0;32m     68\u001b[0m \u001b[39mfinally\u001b[39;00m:\n\u001b[0;32m     69\u001b[0m   \u001b[39mdel\u001b[39;00m filtered_tb\n",
            "File \u001b[1;32mc:\\Users\\LENOVO\\miniconda3\\envs\\tf\\lib\\site-packages\\keras\\utils\\generic_utils.py:561\u001b[0m, in \u001b[0;36mclass_and_config_for_serialized_keras_object\u001b[1;34m(config, module_objects, custom_objects, printable_module_name)\u001b[0m\n\u001b[0;32m    559\u001b[0m \u001b[39mcls\u001b[39m \u001b[39m=\u001b[39m get_registered_object(class_name, custom_objects, module_objects)\n\u001b[0;32m    560\u001b[0m \u001b[39mif\u001b[39;00m \u001b[39mcls\u001b[39m \u001b[39mis\u001b[39;00m \u001b[39mNone\u001b[39;00m:\n\u001b[1;32m--> 561\u001b[0m   \u001b[39mraise\u001b[39;00m \u001b[39mValueError\u001b[39;00m(\n\u001b[0;32m    562\u001b[0m       \u001b[39mf\u001b[39m\u001b[39m'\u001b[39m\u001b[39mUnknown \u001b[39m\u001b[39m{\u001b[39;00mprintable_module_name\u001b[39m}\u001b[39;00m\u001b[39m: \u001b[39m\u001b[39m{\u001b[39;00mclass_name\u001b[39m}\u001b[39;00m\u001b[39m. Please ensure this \u001b[39m\u001b[39m'\u001b[39m\n\u001b[0;32m    563\u001b[0m       \u001b[39m'\u001b[39m\u001b[39mobject is passed to the `custom_objects` argument. See \u001b[39m\u001b[39m'\u001b[39m\n\u001b[0;32m    564\u001b[0m       \u001b[39m'\u001b[39m\u001b[39mhttps://www.tensorflow.org/guide/keras/save_and_serialize\u001b[39m\u001b[39m'\u001b[39m\n\u001b[0;32m    565\u001b[0m       \u001b[39m'\u001b[39m\u001b[39m#registering_the_custom_object for details.\u001b[39m\u001b[39m'\u001b[39m)\n\u001b[0;32m    567\u001b[0m cls_config \u001b[39m=\u001b[39m config[\u001b[39m'\u001b[39m\u001b[39mconfig\u001b[39m\u001b[39m'\u001b[39m]\n\u001b[0;32m    568\u001b[0m \u001b[39m# Check if `cls_config` is a list. If it is a list, return the class and the\u001b[39;00m\n\u001b[0;32m    569\u001b[0m \u001b[39m# associated class configs for recursively deserialization. This case will\u001b[39;00m\n\u001b[0;32m    570\u001b[0m \u001b[39m# happen on the old version of sequential model (e.g. `keras_version` ==\u001b[39;00m\n\u001b[0;32m    571\u001b[0m \u001b[39m# \"2.0.6\"), which is serialized in a different structure, for example\u001b[39;00m\n\u001b[0;32m    572\u001b[0m \u001b[39m# \"{'class_name': 'Sequential',\u001b[39;00m\n\u001b[0;32m    573\u001b[0m \u001b[39m#   'config': [{'class_name': 'Embedding', 'config': ...}, {}, ...]}\".\u001b[39;00m\n",
            "\u001b[1;31mValueError\u001b[0m: Unknown optimizer: Custom>Adam. Please ensure this object is passed to the `custom_objects` argument. See https://www.tensorflow.org/guide/keras/save_and_serialize#registering_the_custom_object for details."
          ]
        }
      ],
      "source": [
        "model = tf.keras.models.load_model('model.h5')"
      ]
    },
    {
      "cell_type": "code",
      "execution_count": null,
      "metadata": {
        "id": "miDRvX0wQbk0"
      },
      "outputs": [],
      "source": [
        "# Mengambil input dari pengguna\n",
        "prediction_input = input('👨‍🦰 Kamu : ')\n",
        "\n",
        "# Menghapus punktuasi dan konversi ke huruf kecil\n",
        "prediction_input = [letters.lower() for letters in prediction_input if letters not in string.punctuation]\n",
        "prediction_input = ''.join(prediction_input)\n",
        "\n",
        "# Tokenisasi input\n",
        "words = prediction_input.split()\n",
        "sequence = [kata_index.get(word, 0) for word in words]  # Mengubah kata menjadi indeks berdasarkan kamus\n",
        "padded_sequence = sequence + [0] * (panjang_input - len(sequence))  # Padding dengan menambahkan nilai 0\n",
        "\n",
        "# Membuat prediksi\n",
        "prediction = model.predict(np.array([padded_sequence]))\n",
        "predicted_class = np.argmax(prediction)\n",
        "\n",
        "# Mendapatkan tag kategori yang sesuai dengan prediksi\n",
        "predicted_tag = list(label_mapping.keys())[list(label_mapping.values()).index(predicted_class)]\n",
        "\n",
        "# Mendapatkan jawaban yang sesuai dengan tag kategori\n",
        "predicted_answer = jawaban.get(predicted_tag)[0:20]\n",
        "\n",
        "# Menampilkan hasil prediksi\n",
        "if predicted_answer is not None:\n",
        "    print(\"SMILE :) : \", random.choice(predicted_answer))\n",
        "else:\n",
        "    print(\"Jawaban tidak ditemukan.\")"
      ]
    }
  ],
  "metadata": {
    "colab": {
      "provenance": []
    },
    "kernelspec": {
      "display_name": "tf",
      "language": "python",
      "name": "python3"
    },
    "language_info": {
      "codemirror_mode": {
        "name": "ipython",
        "version": 3
      },
      "file_extension": ".py",
      "mimetype": "text/x-python",
      "name": "python",
      "nbconvert_exporter": "python",
      "pygments_lexer": "ipython3",
      "version": "3.8.16"
    },
    "orig_nbformat": 4,
    "vscode": {
      "interpreter": {
        "hash": "cf5ab5c7f50121ffe4fcc5f1dfb71eaa97a9355dff502d18543d6465aece7a2c"
      }
    }
  },
  "nbformat": 4,
  "nbformat_minor": 0
}
